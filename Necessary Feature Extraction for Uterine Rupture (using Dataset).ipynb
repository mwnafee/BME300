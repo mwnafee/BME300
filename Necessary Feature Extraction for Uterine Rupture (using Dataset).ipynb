{
 "cells": [
  {
   "cell_type": "markdown",
   "id": "4c5bac9e",
   "metadata": {},
   "source": [
    "# Welcome to our BME300 Capstone Project\n",
    "### In this program, we plan to test our algorithm with the 16 electrode Icelandic EHG database.  "
   ]
  },
  {
   "cell_type": "markdown",
   "id": "a8ceeaf9",
   "metadata": {},
   "source": [
    "### Importing Necessary Libraries"
   ]
  },
  {
   "cell_type": "code",
   "execution_count": 52,
   "id": "0000832e",
   "metadata": {},
   "outputs": [],
   "source": [
    "from attr import define\n",
    "import numpy as np\n",
    "import pandas as pd\n",
    "import matplotlib.pyplot as plt\n",
    "import serial\n",
    "import keyboard as kb\n",
    "import time\n",
    "import math\n",
    "from scipy.signal import savgol_filter\n",
    "import scipy\n",
    "\n",
    "ind=11"
   ]
  },
  {
   "cell_type": "code",
   "execution_count": 53,
   "id": "ee53cdc4",
   "metadata": {},
   "outputs": [],
   "source": [
    "import streamlit as st\n",
    "import plotly.express as px"
   ]
  },
  {
   "cell_type": "markdown",
   "id": "116a511a",
   "metadata": {},
   "source": [
    "### Data Collection from Physionet\n",
    "The dataset we plan to use is the Icelandic 16-electrode Electrohysterogram Database\n",
    "https://physionet.org/content/ehgdb/1.0.0/\n",
    "We saved the database locally to our drive\n",
    "Fortunately Physionet provides the wfdb library with the help of which we can easily extract EHG values from each patient reading.\n",
    "This database contains 122 readings of 45 patients. (10 of them were in labor)"
   ]
  },
  {
   "cell_type": "code",
   "execution_count": 54,
   "id": "4f4c0027",
   "metadata": {},
   "outputs": [],
   "source": [
    "# Data Collection:\n",
    "dat_file=r'C:\\Drive\\BME 300\\icelandic-16-electrode-electrohysterogram-database-1.0.0\\files\\ice008_p_2of4'\n",
    "#dat_file=r'C:\\Drive\\BME 300\\icelandic-16-electrode-electrohysterogram-database-1.0.0\\files\\ice031_l_3of3'\n",
    "wfdb.rdheader(dat_file)\n",
    "ind+=1\n"
   ]
  },
  {
   "cell_type": "code",
   "execution_count": 55,
   "id": "0da97158",
   "metadata": {},
   "outputs": [
    {
     "data": {
      "text/plain": [
       "<wfdb.io.record.Record at 0x1955af21970>"
      ]
     },
     "execution_count": 55,
     "metadata": {},
     "output_type": "execute_result"
    }
   ],
   "source": [
    "record=wfdb.rdrecord(dat_file,channels=[1,3])\n",
    "record"
   ]
  },
  {
   "cell_type": "code",
   "execution_count": 56,
   "id": "80509066",
   "metadata": {},
   "outputs": [
    {
     "data": {
      "text/plain": [
       "(520000, 2)"
      ]
     },
     "execution_count": 56,
     "metadata": {},
     "output_type": "execute_result"
    }
   ],
   "source": [
    "signals, fields= wfdb.rdsamp(dat_file,sampfrom=200000,sampto=720000,channels=[1,2])\n",
    "signals1, fields1= wfdb.rdsamp(dat_file,sampfrom=0,channels=[1,2])\n",
    "signals.shape"
   ]
  },
  {
   "cell_type": "code",
   "execution_count": 57,
   "id": "cbe5f548",
   "metadata": {},
   "outputs": [
    {
     "data": {
      "text/plain": [
       "{'fs': 200,\n",
       " 'sig_len': 520000,\n",
       " 'n_sig': 2,\n",
       " 'base_date': None,\n",
       " 'base_time': None,\n",
       " 'units': ['mV', 'mV'],\n",
       " 'sig_name': ['EHG10', 'EHG11'],\n",
       " 'comments': ['Info:',\n",
       "  'ID:ice008',\n",
       "  'Record type:pregnancy',\n",
       "  'Record number:2/4',\n",
       "  'Age(years):26',\n",
       "  'BMI before pregnancy:20.9',\n",
       "  'BMI at recording:25.3',\n",
       "  'Gravidity:5',\n",
       "  'Parity:2',\n",
       "  'Previous caesarean:No',\n",
       "  'Placental position:Anterior',\n",
       "  'Gestational age at recording(w/d):37/6',\n",
       "  'Gestational age at delivery:40/2',\n",
       "  'Mode of delivery:Vaginal',\n",
       "  'Synthetic oxytocin use in labour:No',\n",
       "  'Epidural during labour:No',\n",
       "  'Comments for recording:',\n",
       "  'Comments for delivery:']}"
      ]
     },
     "execution_count": 57,
     "metadata": {},
     "output_type": "execute_result"
    }
   ],
   "source": [
    "fields"
   ]
  },
  {
   "cell_type": "code",
   "execution_count": 71,
   "id": "0ca08ed8",
   "metadata": {},
   "outputs": [
    {
     "data": {
      "text/plain": [
       "<matplotlib.legend.Legend at 0x195020e4a90>"
      ]
     },
     "execution_count": 71,
     "metadata": {},
     "output_type": "execute_result"
    },
    {
     "data": {
      "image/png": "[encoded data removed]",
      "text/plain": [
       "<Figure size 432x288 with 1 Axes>"
      ]
     },
     "metadata": {
      "needs_background": "light"
     },
     "output_type": "display_data"
    }
   ],
   "source": [
    "#for i in signals[:,1]:\n",
    "    #print(i)\n",
    "plt.plot(signals[:,0]) \n",
    "plt.plot(signals[:,1])\n",
    "plt.title(\"EHG Curve\")\n",
    "plt.xlabel(\"samples\")\n",
    "plt.ylabel(\"EHG(mV)\")\n",
    "plt.legend(['EHG signal 0','EHG signal 1'])"
   ]
  },
  {
   "cell_type": "markdown",
   "id": "82a1a91a",
   "metadata": {},
   "source": [
    "Creating a time-array for further analysis"
   ]
  },
  {
   "cell_type": "code",
   "execution_count": 59,
   "id": "657e6776",
   "metadata": {},
   "outputs": [
    {
     "data": {
      "text/plain": [
       "520000"
      ]
     },
     "execution_count": 59,
     "metadata": {},
     "output_type": "execute_result"
    }
   ],
   "source": [
    "secs=len(signals1[:,1])/(200)\n",
    "mins=secs/60\n",
    "y=signals[:,1]\n",
    "y=list(y)\n",
    "x=np.arange(0,secs,1/200)\n",
    "x.shape\n",
    "#x=x[250000:670000,]\n",
    "x=x[200000:720000,]\n",
    "x.shape\n",
    "x=list(x)\n",
    "len(y)"
   ]
  },
  {
   "cell_type": "markdown",
   "id": "a69299f7",
   "metadata": {},
   "source": [
    "### Filtering the EHG reading\n",
    "We use a Savitzky-Golay filter as it has shown better results than other filters"
   ]
  },
  {
   "cell_type": "code",
   "execution_count": 60,
   "id": "fd6cb3ed",
   "metadata": {},
   "outputs": [],
   "source": [
    "y_unfiltered=y"
   ]
  },
  {
   "cell_type": "code",
   "execution_count": 61,
   "id": "67a2c075",
   "metadata": {},
   "outputs": [
    {
     "data": {
      "image/png": "[encoded data removed]",
      "text/plain": [
       "<Figure size 720x288 with 2 Axes>"
      ]
     },
     "metadata": {
      "needs_background": "light"
     },
     "output_type": "display_data"
    }
   ],
   "source": [
    "y=savgol_filter(y_unfiltered,4500,2)\n",
    "\n",
    "\n",
    "plt.figure(figsize=(10, 4))\n",
    "\n",
    "plt.subplot(221)\n",
    "plt.plot(x, y_unfiltered)\n",
    "plt.title(\"EHG Signal with Noise\")\n",
    "plt.margins(0, .05)\n",
    "\n",
    "plt.subplot(222)\n",
    "plt.plot(x, y)\n",
    "plt.title(\"Filtered EHG Signal\")\n",
    "plt.margins(0, .05)\n",
    "\n",
    "plt.tight_layout()\n",
    "plt.show()"
   ]
  },
  {
   "cell_type": "markdown",
   "id": "c021cbae",
   "metadata": {},
   "source": [
    "Making an EHG dataframe containing raw and filtered signals in case we need it."
   ]
  },
  {
   "cell_type": "code",
   "execution_count": null,
   "id": "3a3b5a32",
   "metadata": {},
   "outputs": [],
   "source": [
    "ehg_y=list(y)\n",
    "ehg_y_unfiltered=list(y_unfiltered)\n",
    "ehg_np=[x,ehg_y,ehg_y_unfiltered]\n",
    "ehg_np=np.array(ehg_np)\n",
    "ehg_np=ehg_np.T\n",
    "ehg_df=pd.DataFrame(ehg_np,columns=[\"time\",\"Filtered_EHG\",\"Raw_EHG\"])\n",
    "ehg_df"
   ]
  },
  {
   "cell_type": "markdown",
   "id": "665dceb6",
   "metadata": {},
   "source": [
    "## Preterm Labor Detection\n",
    "We start the preterm labor detection now\n",
    "### Preprocessing\n",
    "For preterm labor, the data is sliced into 3 minute windows.\n",
    "\n",
    "We also define two functions: one to determine index of peak values within that 3 minute window and another to determine percentage of difference of values(peak or time gap) between two windows."
   ]
  },
  {
   "cell_type": "code",
   "execution_count": 10,
   "id": "be333919",
   "metadata": {},
   "outputs": [],
   "source": [
    "#Data PreProcessing:\n",
    "freq=200 # 20Hz sampling frequency\n",
    "minutes=3\n",
    "slice_time= minutes*60 # 3 minutes\n",
    "slice_size= slice_time*freq\n",
    "\n",
    "sample_size=len(x)\n",
    "slice_num=math.floor(sample_size/slice_size)\n",
    "x_sliced= [x[i*slice_size:(i+1)*slice_size] for i in range(0,slice_num)]\n",
    "y_sliced= [y[i*slice_size:(i+1)*slice_size] for i in range(0,slice_num)]\n",
    "\n",
    "x_sliced=np.array(x_sliced)\n",
    "y_sliced=np.array(y_sliced)  #now time and voltage has been successfully divided into segments of 30 mins or 36,000 samples\n",
    "\n",
    "def findPeakIndex(y):\n",
    "    y=np.array(y)\n",
    "    c=y.argmax()\n",
    "\n",
    "    return c\n",
    "\n",
    "def percDiff(val1,val2):\n",
    "    valM=abs(val1-val2)\n",
    "    valP=abs(val1+val2)/2\n",
    "    perDiff=(valM/valP)*100\n",
    "    return perDiff\n"
   ]
  },
  {
   "cell_type": "markdown",
   "id": "de8b01c3",
   "metadata": {},
   "source": [
    "The following code evaluates the variability between peak values and time gaps between peaks of adjacent 3-minute windows.\n",
    "A final decision is provided on every 3-minute window.\n",
    "\n",
    "Finally, it is checked how much percentage of all the windows are inconsistent. "
   ]
  },
  {
   "cell_type": "code",
   "execution_count": 80,
   "id": "9f1d6d42",
   "metadata": {},
   "outputs": [
    {
     "name": "stdout",
     "output_type": "stream",
     "text": [
      "i=0\n",
      "0\n",
      "i=1\n",
      "90\n",
      "i=2\n",
      "0\n",
      "i=3\n",
      "65\n",
      "i=4\n",
      "0\n",
      "i=5\n",
      "0\n",
      "i=6\n",
      "0\n",
      "i=7\n",
      "0\n",
      "i=8\n",
      "0\n",
      "i=9\n",
      "0\n",
      "i=10\n",
      "0\n",
      "i=11\n",
      "75\n",
      "i=12\n",
      "80\n",
      "i=13\n",
      "70\n",
      "Percentage of windows that show inconsistency akin to labor:\n",
      "28.57142857142857\n"
     ]
    }
   ],
   "source": [
    "# Data Analysis:\n",
    "final_Decision=list()\n",
    "Threshold=70\n",
    "for i in range(0,len(x_sliced)):\n",
    "    FD=0\n",
    "    PFC=0\n",
    "    fPFC=0\n",
    "    PRPD=0\n",
    "    peaksFD=0\n",
    "    freqFD=0\n",
    "    t=x_sliced[i,:]\n",
    "    volt_raw=y_sliced[i,:]\n",
    "    volt=savgol_filter(volt_raw,4500,2)\n",
    "    #print(volt)\n",
    "    print('i='+ str(i))\n",
    "    # phase-1\n",
    "    sd_threshold=0.1\n",
    "    sd=np.std(volt)\n",
    "    if sd<sd_threshold:\n",
    "        FD=0;\n",
    "    else:\n",
    "        #phase-2\n",
    "        percent=5\n",
    "        segments=math.floor(100/percent)\n",
    "        segment_size= (percent/100)*len(t)\n",
    "        segment_size=int(segment_size)\n",
    "        #print(\"segment size\")\n",
    "        #print(segment_size)\n",
    "        t05=[t[p*segment_size:(p+1)*segment_size] for p in range(0,segments)]\n",
    "        volt05=[volt[p*segment_size:(p+1)*segment_size] for p in range(0,segments)]\n",
    "        #print(volt05)\n",
    "        for j in range(0,len(t05)):\n",
    "            #print('j='+ str(j))\n",
    "            tp=t05[j]\n",
    "            voltp=volt05[j]\n",
    "            #print(len(tp))\n",
    "\n",
    "            chunk_size=100\n",
    "            chunk_num=int(len(tp)/chunk_size)\n",
    "            #print(\"chunk num\")\n",
    "            #print(chunk_num)\n",
    "            t_chunked=[tp[p*chunk_size:(p+1)*chunk_size] for p in range(0,chunk_num)]\n",
    "            volt_chunked=[voltp[p*chunk_size:(p+1)*chunk_size] for p in range(0,chunk_num)]\n",
    "            #print(volt_chunked)\n",
    "            #Peaks Analysis\n",
    "            for k in range(0,len(volt_chunked)-1):\n",
    "                #print('k='+ str(k))\n",
    "                #print(volt_chunked[k])\n",
    "                #print(volt_chunked[k+1])\n",
    "                ind1=findPeakIndex(volt_chunked[k])\n",
    "                ind2=findPeakIndex(volt_chunked[k+1])\n",
    "                peak1=volt_chunked[k][ind1]\n",
    "                peak2=volt_chunked[k+1][ind2]\n",
    "                PDR=percDiff(peak1,peak2)\n",
    "                if PDR>14:\n",
    "                    PFC+=1\n",
    "            PRPD=(PFC*100)/len(volt_chunked) \n",
    "            if PRPD>25:\n",
    "                peaksFD+=5\n",
    "            \n",
    "            #Frequency Analysis\n",
    "            for k in range(0,len(volt_chunked)-2):\n",
    "                ind1=findPeakIndex(volt_chunked[k])\n",
    "                ind2=findPeakIndex(volt_chunked[k+1])\n",
    "                ind3=findPeakIndex(volt_chunked[k+2])\n",
    "                time1=t_chunked[k][ind1]\n",
    "                time2=t_chunked[k+1][ind2]\n",
    "                time3=t_chunked[k+2][ind3]\n",
    "                freq1=time2-time1\n",
    "                freq2=time3-time2\n",
    "                fPDR=percDiff(freq1,freq2)\n",
    "                if fPDR>14:\n",
    "                    fPFC+=1\n",
    "            fPRPD=(fPFC*100)/len(volt_chunked) \n",
    "            if fPRPD>25:\n",
    "                freqFD+=5\n",
    "        FD=(peaksFD+freqFD)\n",
    "    #Final Decision Analysis\n",
    "    print(FD)\n",
    "    if FD>=Threshold:\n",
    "        final_Decision.append(1)\n",
    "    else:\n",
    "        final_Decision.append(0)\n",
    "        \n",
    "preterm_perc=sum(final_Decision)/len(final_Decision)*100\n",
    "print(\"Percentage of windows that show inconsistency akin to labor:\")\n",
    "print(preterm_perc)\n",
    "        "
   ]
  },
  {
   "cell_type": "markdown",
   "id": "7c2c3d58",
   "metadata": {},
   "source": [
    "## Baseline Deflection\n",
    "Baseline deflection is measured by integrating to find the area under the EHG curve"
   ]
  },
  {
   "cell_type": "code",
   "execution_count": 70,
   "id": "11edf648",
   "metadata": {},
   "outputs": [
    {
     "name": "stdout",
     "output_type": "stream",
     "text": [
      "Baseline Deflection is:\n",
      "2.989538159337386\n"
     ]
    },
    {
     "data": {
      "image/png": "[encoded data removed]",
      "text/plain": [
       "<Figure size 432x288 with 1 Axes>"
      ]
     },
     "metadata": {
      "needs_background": "light"
     },
     "output_type": "display_data"
    }
   ],
   "source": [
    "import peakutils\n",
    "y=np.array(y)\n",
    "y_baseline=peakutils.baseline(y)\n",
    "\n",
    "plt.plot(x,y)\n",
    "plt.plot(x,y_baseline)\n",
    "plt.xlabel(\"time(s)\")\n",
    "plt.ylabel(\"EHG(mV)\")\n",
    "plt.title(\"Checking Baseline Deflection\")\n",
    "plt.legend(['EHG signal','Baseline'])\n",
    "\n",
    "\n",
    "baseline_deflection=(np.trapz(y_baseline))/len(y)\n",
    "\n",
    "print(\"Baseline Deflection is:\")\n",
    "print(baseline_deflection)"
   ]
  },
  {
   "cell_type": "markdown",
   "id": "d1e30e1f",
   "metadata": {},
   "source": [
    "## Frequency Determination\n",
    "Frequency determination is done by counting no. of onsets in unit time. Onsets are determined with the help of the powerful Biosignal Processing Python Module"
   ]
  },
  {
   "cell_type": "code",
   "execution_count": 73,
   "id": "92ab26a1",
   "metadata": {},
   "outputs": [
    {
     "data": {
      "image/png": "[encoded data removed]",
      "text/plain": [
       "<Figure size 432x288 with 2 Axes>"
      ]
     },
     "metadata": {
      "needs_background": "light"
     },
     "output_type": "display_data"
    },
    {
     "name": "stdout",
     "output_type": "stream",
     "text": [
      "EHG onset frequency:\n",
      "2.0666695370410237\n"
     ]
    }
   ],
   "source": [
    "import biosppy\n",
    "ehg_bio=biosppy.signals.emg.emg(y)\n",
    "ehg_freqs=len(ehg_bio['onsets'])/x[-1]*60\n",
    "print(\"EHG onset frequency:\")\n",
    "print(ehg_freqs)"
   ]
  },
  {
   "cell_type": "markdown",
   "id": "101cdb74",
   "metadata": {},
   "source": [
    "## Montevideo Units\n",
    "Montevideo units are calculated by subtracting the baseline uterine pressure from the peak contraction pressure of each contraction (arrows) in a 10-minute window and adding the pressures generated by each contraction.\n",
    "\n",
    "So, the Uterine pressure data needs to be sliced into 10 minute windows\n"
   ]
  },
  {
   "cell_type": "code",
   "execution_count": 18,
   "id": "ec588d55",
   "metadata": {},
   "outputs": [],
   "source": [
    "freq=200 # 20Hz sampling frequency\n",
    "minutes=10\n",
    "slice_time= minutes*60  # 10 minutes\n",
    "slice_size= slice_time*freq\n",
    "\n",
    "sample_size=len(x)\n",
    "slice_num=math.floor(sample_size/slice_size)\n"
   ]
  },
  {
   "cell_type": "markdown",
   "id": "1437680d",
   "metadata": {},
   "source": [
    "Again, the EHG data is converted to uterine pressure using the following equation:\n",
    "(y_pressure is uterine pressure, y is EHG values)\n",
    "https://sci-hub.hkvisa.net/10.1007/s10916-020-1523-y"
   ]
  },
  {
   "cell_type": "code",
   "execution_count": 74,
   "id": "7f7c48a9",
   "metadata": {},
   "outputs": [],
   "source": [
    "y_pressure=38.71-2.764*y+0.7966*y**2\n",
    "y_pressure_baseline=peakutils.baseline(y_pressure)\n",
    "y_dist=y_pressure-y_pressure_baseline\n",
    "y_dist_sliced= [y_dist[i*slice_size:(i+1)*slice_size] for i in range(0,slice_num)]\n",
    "MVUarray=[]\n",
    "for i in range(0,len(y_dist_sliced)):\n",
    "    MVUarray.append(sum(y_dist_sliced[i])/slice_time)\n",
    "MVUarray=np.array(MVUarray)\n",
    "MVU=np.mean(MVUarray)\n"
   ]
  },
  {
   "cell_type": "markdown",
   "id": "d1c1084a",
   "metadata": {},
   "source": [
    "All our features extracted are stored in a dictionary later converted to a dataframe."
   ]
  },
  {
   "cell_type": "code",
   "execution_count": 76,
   "id": "ee67e1b6",
   "metadata": {},
   "outputs": [],
   "source": [
    "patient= {}\n",
    "patient['Preterm_Contraction']=preterm_perc\n",
    "patient['Baseline_Deflection']=baseline_deflection\n",
    "patient['EHG_frequency']=ehg_freqs\n",
    "patient['Montevideo_Units']=MVU\n"
   ]
  },
  {
   "cell_type": "code",
   "execution_count": 77,
   "id": "217eeeb8",
   "metadata": {},
   "outputs": [
    {
     "data": {
      "text/plain": [
       "{'Preterm_Contraction': 28.57142857142857,\n",
       " 'Baseline_Deflection': 2.989538159337386,\n",
       " 'EHG_frequency': 2.0666695370410237,\n",
       " 'Montevideo_Units': 67.34808724160195}"
      ]
     },
     "execution_count": 77,
     "metadata": {},
     "output_type": "execute_result"
    }
   ],
   "source": [
    "patient"
   ]
  },
  {
   "cell_type": "code",
   "execution_count": 78,
   "id": "134d4913",
   "metadata": {},
   "outputs": [
    {
     "data": {
      "text/html": [
       "<div>\n",
       "<style scoped>\n",
       "    .dataframe tbody tr th:only-of-type {\n",
       "        vertical-align: middle;\n",
       "    }\n",
       "\n",
       "    .dataframe tbody tr th {\n",
       "        vertical-align: top;\n",
       "    }\n",
       "\n",
       "    .dataframe thead th {\n",
       "        text-align: right;\n",
       "    }\n",
       "</style>\n",
       "<table border=\"1\" class=\"dataframe\">\n",
       "  <thead>\n",
       "    <tr style=\"text-align: right;\">\n",
       "      <th></th>\n",
       "      <th>Preterm_Contraction</th>\n",
       "      <th>Baseline_Deflection</th>\n",
       "      <th>EHG_frequency</th>\n",
       "      <th>Montevideo_Units</th>\n",
       "    </tr>\n",
       "  </thead>\n",
       "  <tbody>\n",
       "    <tr>\n",
       "      <th>12</th>\n",
       "      <td>28.571429</td>\n",
       "      <td>2.989538</td>\n",
       "      <td>2.06667</td>\n",
       "      <td>67.348087</td>\n",
       "    </tr>\n",
       "  </tbody>\n",
       "</table>\n",
       "</div>"
      ],
      "text/plain": [
       "    Preterm_Contraction  Baseline_Deflection  EHG_frequency  Montevideo_Units\n",
       "12            28.571429             2.989538        2.06667         67.348087"
      ]
     },
     "execution_count": 78,
     "metadata": {},
     "output_type": "execute_result"
    }
   ],
   "source": [
    "patient_df=pd.DataFrame(patient,index=[ind])\n",
    "patient_df"
   ]
  },
  {
   "cell_type": "markdown",
   "id": "e6dd5e14",
   "metadata": {},
   "source": [
    "The dataframe is appended to a csv"
   ]
  },
  {
   "cell_type": "code",
   "execution_count": 88,
   "id": "d8c9a5c5",
   "metadata": {},
   "outputs": [],
   "source": [
    "patient_df.to_csv(r'C:\\Drive\\BME 300\\Feature_Extraction_using_Icelandic_Dataset.csv',mode='a',index=True,header=False)"
   ]
  },
  {
   "cell_type": "code",
   "execution_count": 79,
   "id": "f76aa539",
   "metadata": {},
   "outputs": [
    {
     "name": "stdout",
     "output_type": "stream",
     "text": [
      "Done\n"
     ]
    }
   ],
   "source": [
    "print(\"Done\")"
   ]
  }
 ],
 "metadata": {
  "kernelspec": {
   "display_name": "Python 3 (ipykernel)",
   "language": "python",
   "name": "python3"
  },
  "language_info": {
   "codemirror_mode": {
    "name": "ipython",
    "version": 3
   },
   "file_extension": ".py",
   "mimetype": "text/x-python",
   "name": "python",
   "nbconvert_exporter": "python",
   "pygments_lexer": "ipython3",
   "version": "3.8.13"
  }
 },
 "nbformat": 4,
 "nbformat_minor": 5
}
